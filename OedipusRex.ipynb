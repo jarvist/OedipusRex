{
 "cells": [
  {
   "cell_type": "markdown",
   "metadata": {},
   "source": [
    "'Optical Absorption of Polarons in the Feynman-Hellwarth-Iddings-Platzman Approximation'\n",
    "\n",
    "Julia codes to implement https://doi.org/10.1103/PhysRevB.5.2367 ; in particular the calculation of Re[χ] , the real part of the optical absorption.\n"
   ]
  },
  {
   "cell_type": "code",
   "execution_count": 1,
   "metadata": {
    "collapsed": false
   },
   "outputs": [
    {
     "data": {
      "text/plain": [
       "21-element Array{Complex{Float64},1}:\n",
       "         NaN+NaN*im       \n",
       "   -0.179198+0.822169im   \n",
       "   -0.301306+0.112105im   \n",
       "  -0.0217219-0.0163017im  \n",
       " -0.00690056+0.0943483im  \n",
       "    -0.07536+0.0409531im  \n",
       "  -0.0166642-0.00915165im \n",
       "  0.00243102+0.0353905im  \n",
       "  -0.0350869+0.0260899im  \n",
       "  -0.0142819-0.00538585im \n",
       "  0.00358919+0.0168249im  \n",
       "  -0.0194673+0.0192957im  \n",
       "  -0.0125996-0.00280464im \n",
       "  0.00308866+0.00841519im \n",
       "  -0.0114179+0.0150748im  \n",
       "    -0.01116-0.000865907im\n",
       "  0.00213044+0.00396203im \n",
       "  -0.0066556+0.0119931im  \n",
       " -0.00981362+0.000630485im\n",
       "   0.0010734+0.00145698im \n",
       " -0.00364383+0.00953447im "
      ]
     },
     "execution_count": 1,
     "metadata": {},
     "output_type": "execute_result"
    }
   ],
   "source": [
    "# (13) - defn of Re[χ]\n",
    "\n",
    "v=20 # From MAPI at 300 K ; Free-energy variational soln\n",
    "w=20\n",
    "\n",
    "R=(v^2-w^2)/(w^2*v)\n",
    "\n",
    "Reχintegrand(u,Ω) =  (1-cos(Ω*u)*exp(im*u))/(R*(1-exp(im*v*u))-im*u)^(3/2)\n",
    "\n",
    "using QuadGK\n",
    "Ω=1\n",
    "#Reχ = quadgk(u->Reχintegrand(u,Ω), 0.0, Inf)\n",
    "# OK, problematic as this is a complex (multi valued integration!)\n",
    "\n",
    "[  Reχintegrand(u,Ω) for u=0:20 ]\n",
    "# Oh yikes, and it explodes as u->0 takes it to ->0 in the denominator"
   ]
  },
  {
   "cell_type": "code",
   "execution_count": null,
   "metadata": {
    "collapsed": false
   },
   "outputs": [],
   "source": []
  },
  {
   "cell_type": "code",
   "execution_count": null,
   "metadata": {
    "collapsed": true
   },
   "outputs": [],
   "source": []
  }
 ],
 "metadata": {
  "anaconda-cloud": {},
  "kernelspec": {
   "display_name": "Julia 0.5.0",
   "language": "julia",
   "name": "julia-0.5"
  },
  "language_info": {
   "file_extension": ".jl",
   "mimetype": "application/julia",
   "name": "julia",
   "version": "0.5.0"
  }
 },
 "nbformat": 4,
 "nbformat_minor": 1
}
